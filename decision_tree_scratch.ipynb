{
 "cells": [
  {
   "cell_type": "code",
   "execution_count": 11,
   "metadata": {},
   "outputs": [],
   "source": [
    "import pandas as pd\n",
    "\n",
    "class MyDecisionTree:\n",
    "    def __init__(self, max_depth=5):\n",
    "        # Initialize the decision tree with a maximum depth (default is 5)\n",
    "        self.max_depth = max_depth\n",
    "\n",
    "    def cost_function(self, y):\n",
    "        # Calculate Gini impurity as the cost function for a set of target values 'y'\n",
    "        unique_values = y.unique()\n",
    "        total_samples = len(y)\n",
    "        gini_y = 0\n",
    "        \n",
    "        for value in unique_values:\n",
    "            proportion = len(y[y == value]) / total_samples\n",
    "            gini_y += proportion**2\n",
    "        \n",
    "        gini = 1 - gini_y\n",
    "        return gini\n",
    "\n",
    "    def make_split(self, X, y, feature):\n",
    "        # Find the best split for a given feature\n",
    "        min_gini = 1\n",
    "        best_value = None\n",
    "        for value in X[feature].unique():\n",
    "            left = y[X[feature] < value]\n",
    "            gini_left = self.cost_function(left)\n",
    "            right = y[X[feature] >= value]\n",
    "            gini_right = self.cost_function(right)\n",
    "            gini = (len(left) * gini_left + len(right) * gini_right) / len(y)\n",
    "            if gini < min_gini:\n",
    "                min_gini = gini\n",
    "                best_value = value\n",
    "        return best_value, min_gini\n",
    "\n",
    "    def find_best_split(self, X, y):\n",
    "        # Find the best feature to split on in the dataset\n",
    "        best_feature = None\n",
    "        best_value = None\n",
    "        min_gini = 1\n",
    "        for feature in X.columns:\n",
    "            value, gini = self.make_split(X, y, feature)\n",
    "            if gini < min_gini:\n",
    "                min_gini = gini\n",
    "                best_feature = feature\n",
    "                best_value = value\n",
    "        return best_feature, best_value\n",
    "\n",
    "    def fit(self, X, y, depth=0):\n",
    "        # Recursively build the decision tree until max_depth is reached or all samples have the same target value\n",
    "        if depth == self.max_depth or len(y.unique()) == 1:\n",
    "            return {'prediction': y.mode()[0]}\n",
    "        feature, value = self.find_best_split(X, y)\n",
    "        left_cover = X[feature] < value\n",
    "        left_tree = self.fit(X[left_cover], y[left_cover], depth + 1)\n",
    "        right_tree = self.fit(X[~left_cover], y[~left_cover], depth + 1)\n",
    "        return {'feature': feature, 'value': value,\n",
    "                'left': left_tree, 'right': right_tree}\n",
    "\n",
    "    def predict_row(self, row, tree):\n",
    "        # Predict a single row using the fitted decision tree\n",
    "        if 'prediction' in tree:\n",
    "            return tree['prediction']\n",
    "        feature_value = row[tree['feature']]\n",
    "        if feature_value < tree['value']:\n",
    "            return self.predict_row(row, tree['left'])\n",
    "        else:\n",
    "            return self.predict_row(row, tree['right'])\n",
    "\n",
    "    def predict(self, X):\n",
    "        # Predict a dataset using the fitted decision tree\n",
    "        predictions = []\n",
    "        for i in range(len(X)):\n",
    "            predictions.append(self.predict_row(X.iloc[i], self.tree))\n",
    "        return pd.Series(predictions)\n",
    "\n",
    "    def score(self, X, y):\n",
    "        # Compute accuracy of predictions\n",
    "        predictions = self.predict(X)\n",
    "        return (predictions == y).mean()\n"
   ]
  },
  {
   "cell_type": "code",
   "execution_count": 12,
   "metadata": {},
   "outputs": [],
   "source": [
    "import pandas as pd\n",
    "\n",
    "def read_csv_to_dataframe(file_path):\n",
    "    try:\n",
    "        df = pd.read_csv(file_path)\n",
    "        return df\n",
    "    except Exception as e:\n",
    "        print(\"An error occurred:\", e)\n",
    "        return None"
   ]
  },
  {
   "cell_type": "code",
   "execution_count": 13,
   "metadata": {},
   "outputs": [],
   "source": [
    "df= read_csv_to_dataframe('/Users/nalinarora/Desktop/ML Assignments/2021478_HW2/Thyroid data - Sheet1.csv')"
   ]
  },
  {
   "cell_type": "code",
   "execution_count": 14,
   "metadata": {},
   "outputs": [
    {
     "data": {
      "text/plain": [
       "Index(['age', 'sex', 'on thyroxine', 'query on thyroxine',\n",
       "       'on antithyroid medication', 'sick', 'pregnant', 'thyroid surgery',\n",
       "       'I131 treatment', 'query hypothyroid', 'query hyperthyroid', 'lithium',\n",
       "       'goitre', 'tumor', 'hypopituitary', 'psych', 'TSH measured', 'TSH',\n",
       "       'T3 measured', 'T3', 'TT4 measured', 'TT4', 'T4U measured', 'T4U',\n",
       "       'FTI measured', 'FTI', 'TBG measured', 'TBG', 'referral source',\n",
       "       'label'],\n",
       "      dtype='object')"
      ]
     },
     "execution_count": 14,
     "metadata": {},
     "output_type": "execute_result"
    }
   ],
   "source": [
    "df.columns\n"
   ]
  },
  {
   "cell_type": "code",
   "execution_count": 21,
   "metadata": {},
   "outputs": [
    {
     "name": "stdout",
     "output_type": "stream",
     "text": [
      "Test Accuracy:98.21428571428571\n",
      "Train Accuracy:99.41964285714285\n"
     ]
    }
   ],
   "source": [
    "from sklearn.model_selection import train_test_split\n",
    "X = df.iloc[:, :-1] \n",
    "y = df.iloc[:, -1] \n",
    "\n",
    "\n",
    "\n",
    "num_train_samples = int(0.8 * len(df))\n",
    "\n",
    "X_train = df.iloc[:num_train_samples, :-1]\n",
    "y_train = df.iloc[:num_train_samples, -1]\n",
    "X_test = df.iloc[num_train_samples:, :-1]\n",
    "y_test = df.iloc[num_train_samples:, -1]\n",
    "\n",
    "\n",
    "model = MyDecisionTree(max_depth=5)\n",
    "\n",
    "\n",
    "model.tree = model.fit(X_train, y_train)\n",
    "\n",
    "\n",
    "predictions = model.predict(X_test)\n",
    "\n",
    "predictions_train=model.predict(X_train)\n",
    "y_train=y_train.reset_index(drop=True)\n",
    "accuracy_train = model.score(X_train, y_train)\n",
    "\n",
    "y_test = y_test.reset_index(drop=True)\n",
    "\n",
    "accuracy = model.score(X_test, y_test)\n",
    "print('Test Accuracy:' +str(accuracy*100))\n",
    "print('Train Accuracy:'+ str(accuracy_train*100))\n",
    "\n",
    "\n",
    "\n",
    "\n",
    "\n",
    "\n",
    "\n"
   ]
  },
  {
   "cell_type": "code",
   "execution_count": null,
   "metadata": {},
   "outputs": [],
   "source": []
  }
 ],
 "metadata": {
  "kernelspec": {
   "display_name": "Python 3",
   "language": "python",
   "name": "python3"
  },
  "language_info": {
   "codemirror_mode": {
    "name": "ipython",
    "version": 3
   },
   "file_extension": ".py",
   "mimetype": "text/x-python",
   "name": "python",
   "nbconvert_exporter": "python",
   "pygments_lexer": "ipython3",
   "version": "3.10.9"
  }
 },
 "nbformat": 4,
 "nbformat_minor": 2
}
